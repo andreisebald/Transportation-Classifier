{
 "cells": [
  {
   "cell_type": "code",
   "execution_count": 9,
   "metadata": {},
   "outputs": [],
   "source": [
    "import pandas as pd\n",
    "import seaborn as sns\n",
    "## loads in newly created csv training files\n",
    "driving = pd.read_csv(\"training csv/garminlongdrive.csv\")\n",
    "walking=pd.read_csv(\"training csv/sergiolongwalk.csv\")\n",
    "driving2=pd.read_csv(\"training csv/sergioparkinglot.csv\")\n",
    "biking= pd.read_csv(\"training csv/bessbike.csv\")\n"
   ]
  },
  {
   "cell_type": "code",
   "execution_count": 10,
   "metadata": {},
   "outputs": [],
   "source": [
    "import statistics as stats\n",
    "## adds variance of previous 2, 5 and 10 data points, used for classification\n",
    "def addvariance(tracking_df):\n",
    "    vartwo=[]\n",
    "    varfive=[]\n",
    "    varten=[]\n",
    "    for i,j in enumerate(tracking_df.mph):\n",
    "        var=0\n",
    "        if i>=2:\n",
    "            previoustwo = [j,tracking_df.mph[i-1]]\n",
    "            var=stats.variance(previoustwo)\n",
    "        vartwo.append(var)\n",
    "        if i>=5:\n",
    "            previousfive = [j,tracking_df.mph[i-1],tracking_df.mph[i-2],tracking_df.mph[i-3],tracking_df.mph[i-4]]\n",
    "            var=stats.variance(previousfive)\n",
    "        varfive.append(var)\n",
    "        if i>=10:\n",
    "            previousten = [j,tracking_df.mph[i-1],tracking_df.mph[i-2],tracking_df.mph[i-3],tracking_df.mph[i-4],tracking_df.mph[i-5],tracking_df.mph[i-6],tracking_df.mph[i-7],tracking_df.mph[i-9]]\n",
    "            var=stats.variance(previousten)\n",
    "        \n",
    "        varten.append(var)\n",
    "    tracking_df[\"variance2\"]=vartwo\n",
    "    tracking_df[\"variance5\"]=varfive\n",
    "    tracking_df[\"variance10\"]=varten\n",
    "    \n",
    "addvariance(walking)\n",
    "addvariance(driving)\n",
    "addvariance(driving2)\n",
    "addvariance(biking)\n",
    "driving[\"Class\"]=2\n",
    "driving2[\"Class\"]=2\n",
    "walking[\"Class\"]=0\n",
    "biking[\"Class\"]=1\n",
    "tracking_df=walking.append(driving[0:500]).append(driving2).append(biking).append(biking).append(biking)\n",
    "tracking_df=tracking_df.reset_index(drop=True)\n",
    "tracking_df=tracking_df.drop([\"latitude\",\"longitude\",\"time\",\"distanceinmeters\",\"HHMMSS\",\"meters\",\"seconds\",\"heartrate\"],axis=1)"
   ]
  },
  {
   "cell_type": "code",
   "execution_count": 11,
   "metadata": {},
   "outputs": [],
   "source": [
    "import matplotlib.pyplot as plt  \n",
    "from sklearn.linear_model import LogisticRegression\n",
    "import sklearn.metrics as metrics\n",
    "from sklearn.model_selection import KFold\n",
    "from sklearn.model_selection import train_test_split\n",
    "from sklearn.metrics import plot_confusion_matrix\n",
    "from sklearn.svm import SVC\n",
    "from sklearn.ensemble import RandomForestClassifier\n",
    "import numpy as np\n",
    "from sklearn.model_selection import GridSearchCV\n",
    "from sklearn.preprocessing import normalize\n",
    "from sklearn.neighbors import KNeighborsClassifier\n",
    "## creates classification algorithm (KNN)\n",
    "def modelrunner(df):\n",
    "    randomized = (df.sample(frac=1).reset_index(drop=True)).to_numpy()\n",
    "    X=randomized[:,:-1]\n",
    "    X=normalize(X, norm='max', axis=0)\n",
    "    y=randomized[:,-1:][:,0] \n",
    "    X_train, X_test, Y_train, Y_test = train_test_split(X, y, train_size=1000/(len(y)), random_state=42)\n",
    "\n",
    "    knn =  KNeighborsClassifier(n_neighbors=5)\n",
    "\n",
    "    knn.fit(X_train,Y_train)\n",
    "    \n",
    "    Y_pred=knn.predict(X_test)\n",
    "    print(\"training accuracy score is \", metrics.accuracy_score(Y_test,Y_pred))\n",
    "\n",
    "    return knn"
   ]
  },
  {
   "cell_type": "code",
   "execution_count": 12,
   "metadata": {
    "tags": []
   },
   "outputs": [
    {
     "name": "stdout",
     "output_type": "stream",
     "text": [
      "training accuracy score is  0.9533582089552238\n"
     ]
    }
   ],
   "source": [
    "knn = modelrunner(tracking_df)"
   ]
  },
  {
   "cell_type": "code",
   "execution_count": 13,
   "metadata": {},
   "outputs": [],
   "source": [
    "## function to be used on the the actual data, classifies transportation type using variance of speeds and current speed\n",
    "def classifier(tracking_df):\n",
    "    df=tracking_df.drop([\"latitude\",\"longitude\",\"time\",\"distanceinmeters\",\"HHMMSS\",\"meters\",\"seconds\",\"heartrate\"],axis=1)\n",
    "    test=normalize(df.to_numpy(), norm='max', axis=0)\n",
    "    y=knn.predict(test)\n",
    "    print(len(y))\n",
    "    tracking_df[\"Transport\"]=y\n",
    "    tracking_df=tracking_df.drop([\"distanceinmeters\",\"heartrate\",\"HHMMSS\",\"meters\",\"seconds\",\"variance2\",\"variance5\",\"variance10\"],axis=1)\n",
    "    return tracking_df\n"
   ]
  },
  {
   "cell_type": "markdown",
   "metadata": {},
   "source": [
    "# Upload tracking tcx files here to classify transportation type and add speed"
   ]
  },
  {
   "cell_type": "code",
   "execution_count": 14,
   "metadata": {},
   "outputs": [],
   "source": [
    "import ipywidgets as widgets\n",
    "import pandas as pd\n",
    "import codecs\n",
    "import xml.etree.ElementTree as ET "
   ]
  },
  {
   "cell_type": "code",
   "execution_count": 15,
   "metadata": {},
   "outputs": [
    {
     "data": {
      "application/vnd.jupyter.widget-view+json": {
       "model_id": "f3200b71703c4a6398668573b0a83225",
       "version_major": 2,
       "version_minor": 0
      },
      "text/plain": [
       "FileUpload(value={}, accept='.tcx', description='Upload')"
      ]
     },
     "metadata": {},
     "output_type": "display_data"
    }
   ],
   "source": [
    "\n",
    "upload=widgets.FileUpload(\n",
    "    accept='.tcx',  # Accepted file extension e.g. '.txt', '.pdf', 'image/*', 'image/*,.pdf'\n",
    "    multiple=False  # True to accept multiple files upload else False\n",
    ")\n",
    "upload"
   ]
  },
  {
   "cell_type": "code",
   "execution_count": 16,
   "metadata": {},
   "outputs": [
    {
     "name": "stdout",
     "output_type": "stream",
     "text": [
      "2235\n"
     ]
    }
   ],
   "source": [
    "name=list(upload.value)[0]\n",
    "byte=upload.value[name][\"content\"]\n",
    "txt=codecs.decode(byte, encoding=\"utf-8\")\n",
    "xroot = ET.fromstring(txt)\n",
    "\n",
    "## convert tcx to df\n",
    "df_cols = [\"time\",\"latitude\",\"longitude\",\"distanceinmeters\",\"heartrate\"]\n",
    "rows = []\n",
    "ctr=0\n",
    "for lap in xroot[0][0].findall(\"{http://www.garmin.com/xmlschemas/TrainingCenterDatabase/v2}Lap\"):\n",
    "    for node in lap[8].findall(\"{http://www.garmin.com/xmlschemas/TrainingCenterDatabase/v2}Trackpoint\"):\n",
    "        if node[1].tag == \"{http://www.garmin.com/xmlschemas/TrainingCenterDatabase/v2}Position\":\n",
    "            time = node[0].text\n",
    "            lat = node[1][0].text\n",
    "            long = node[1][1].text\n",
    "            dist= node[3].text\n",
    "            bpm = node[4][0].text\n",
    "\n",
    "            rows.append({\"time\": time, \"latitude\": lat, \n",
    "                            \"longitude\": long, \"distanceinmeters\": dist,\n",
    "                            \"heartrate\":bpm})\n",
    "\n",
    "    tracking_df = pd.DataFrame(rows, columns = df_cols)\n",
    "## format time  \n",
    "def time_splitter (row):\n",
    "   datetime=row['time'].split(\"T\")\n",
    "   return datetime[1]\n",
    "  \n",
    "tracking_df[\"HHMMSS\"]=tracking_df.apply (lambda row: time_splitter(row), axis=1)\n",
    "\n",
    "tracking_df.distanceinmeters=tracking_df.distanceinmeters.astype(str).astype(float)\n",
    "\n",
    "## add meters column\n",
    "meterscol=[]\n",
    "for i,j in enumerate(tracking_df.distanceinmeters):\n",
    "    meters=0\n",
    "    if i>0:\n",
    "        lastmet=tracking_df.distanceinmeters[i-1]\n",
    "        met =j\n",
    "        meters=met-lastmet\n",
    "    meterscol.append(meters)\n",
    "\n",
    "\n",
    "tracking_df[\"meters\"]=meterscol\n",
    "\n",
    "##add seconds column\n",
    "secondscol=[]\n",
    "for i,j in enumerate(tracking_df.HHMMSS):\n",
    "    seconds=0\n",
    "    if i>0:\n",
    "        lastmins=int(tracking_df.HHMMSS[i-1][3:5])\n",
    "        lastsecs=int(tracking_df.HHMMSS[i-1][6:8])\n",
    "        mins=int(j[3:5])\n",
    "        secs=int(j[6:8])\n",
    "        if lastmins==mins:\n",
    "            seconds=secs-lastsecs\n",
    "        else:\n",
    "            seconds = (60-lastsecs)+secs\n",
    "    secondscol.append(seconds)\n",
    "    \n",
    "tracking_df[\"seconds\"]=secondscol\n",
    "\n",
    "## calculates mph with meters and seconds\n",
    "def calculate_speed(row):\n",
    "    if (row.seconds>0):\n",
    "        meterspersecond=row.meters/row.seconds\n",
    "        milesperhour=meterspersecond*2.237\n",
    "        return milesperhour\n",
    "    else: return 0\n",
    "\n",
    "## classifies with knn algorithm\n",
    "tracking_df[\"mph\"]=tracking_df.apply (lambda row: calculate_speed(row), axis=1)\n",
    "addvariance(tracking_df)\n",
    "tracking_df = tracking_df[tracking_df.mph < 85]\n",
    "testingclassified=classifier(tracking_df)"
   ]
  },
  {
   "cell_type": "code",
   "execution_count": 17,
   "metadata": {},
   "outputs": [],
   "source": [
    "filename=name.split(\".\")[0]"
   ]
  },
  {
   "cell_type": "code",
   "execution_count": 18,
   "metadata": {},
   "outputs": [],
   "source": [
    "##places finalized fully classified csv in trials folder to be input into arcgis\n",
    "testingclassified.to_csv(r\"trials/\"+filename+\".csv\", index = False)"
   ]
  },
  {
   "cell_type": "code",
   "execution_count": null,
   "metadata": {},
   "outputs": [],
   "source": []
  }
 ],
 "metadata": {
  "kernelspec": {
   "display_name": "Python 3.8.5 64-bit ('base': conda)",
   "language": "python",
   "name": "python385jvsc74a57bd01ebff5a6661c40cc8beeae9145b1f30f934753bffddfc915a81e00bd308e4466"
  },
  "language_info": {
   "codemirror_mode": {
    "name": "ipython",
    "version": 3
   },
   "file_extension": ".py",
   "mimetype": "text/x-python",
   "name": "python",
   "nbconvert_exporter": "python",
   "pygments_lexer": "ipython3",
   "version": "3.8.5"
  },
  "metadata": {
   "interpreter": {
    "hash": "1ebff5a6661c40cc8beeae9145b1f30f934753bffddfc915a81e00bd308e4466"
   }
  }
 },
 "nbformat": 4,
 "nbformat_minor": 2
}
